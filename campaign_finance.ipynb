{
 "cells": [
  {
   "cell_type": "code",
   "execution_count": null,
   "metadata": {},
   "outputs": [],
   "source": [
    "# Terraform an RDS instance: rds.tf\n",
    "# Output the RDS connection props to a config file\n",
    "# SQL script to make tables in RDS instance\n",
    "# Python script to pull data, write to file, and copy to RDS instance"
   ]
  },
  {
   "cell_type": "code",
   "execution_count": null,
   "metadata": {},
   "outputs": [],
   "source": [
    "import requests\n",
    "import json"
   ]
  },
  {
   "cell_type": "code",
   "execution_count": null,
   "metadata": {},
   "outputs": [],
   "source": [
    "API_KEY = ''\n",
    "BASE_URL = 'https://api.open.fec.gov/v1'\n",
    "DEFAULT_PARAMS = {\n",
    "  'per_page': 100\n",
    "}\n",
    "ENDPOINTS = {\n",
    "  'candidates': 'candidates',\n",
    "  'committees': 'committees',\n",
    "  'donations': 'schedules/schedule_a'\n",
    "}\n",
    "\n",
    "# Keys to pull from the FEC response objects\n",
    "CANDIDATE_ATTRIBUTES = ['candidate_id', 'name', 'cycles', 'district_number', 'election_districts', 'incumbent_challenge', 'party_full', 'state', 'office_full']\n",
    "COMMITTEE_ATTRIBUTES = ['committee_id', 'committee_type_full', 'designation_full', 'name', 'organization_type_full', 'state', 'party_full''committee_type_full']\n",
    "DONATION_ATTRIBUTES = ['contribution_receipt_date', 'contribution_receipt_amount', 'contributor_state', 'contributor_id', 'contributor_name', 'pdf_url', 'sub_id']\n",
    "session = requests.Session()"
   ]
  },
  {
   "cell_type": "code",
   "execution_count": null,
   "metadata": {},
   "outputs": [],
   "source": [
    "def format_params(param, value):\n",
    "  return_params = []\n",
    "  if isinstance(value, list):\n",
    "    for value_option in value:\n",
    "      return_params.append('{}={}'.format(param, value_option))\n",
    "  else:\n",
    "    return_params.append('{}={}'.format(param, value))\n",
    "  return return_params\n",
    "\n",
    "def get_url_params(params):\n",
    "  default_params = DEFAULT_PARAMS.copy()\n",
    "  default_params.update(params)\n",
    "  url_params = []\n",
    "  for param, value in default_params.items():\n",
    "    url_params.extend(format_params(param, value))\n",
    "  return url_params"
   ]
  },
  {
   "cell_type": "code",
   "execution_count": null,
   "metadata": {},
   "outputs": [],
   "source": [
    "def get_url(base_url, endpoint, api_key, **kwargs):\n",
    "  # Pass kwargs to add params to the URL for filters, etc.\n",
    "  # See params for your endpoint in the docs: https://api.open.fec.gov/developers/\n",
    "  url_params = get_url_params(kwargs.copy())\n",
    "  endpoint = '/'.join([base_url, endpoint])\n",
    "  query_url = endpoint + '?api_key={}&'.format(api_key) + '&'.join(url_params)\n",
    "  print(query_url)\n",
    "  return query_url"
   ]
  },
  {
   "cell_type": "code",
   "execution_count": null,
   "metadata": {},
   "outputs": [],
   "source": [
    "def get_data(endpoint, **kwargs):\n",
    "  endpoint = ENDPOINTS[endpoint]\n",
    "  url = get_url(BASE_URL, endpoint, API_KEY, **kwargs)\n",
    "  response = session.get(url)\n",
    "  return response.json()"
   ]
  },
  {
   "cell_type": "code",
   "execution_count": null,
   "metadata": {},
   "outputs": [],
   "source": [
    "def format_record(record, keys):\n",
    "  return {key: value for key, value in record.items() if key in keys}"
   ]
  },
  {
   "cell_type": "code",
   "execution_count": null,
   "metadata": {},
   "outputs": [],
   "source": [
    "def get_object_ids(objects, id_key):\n",
    "  return list(map(lambda object: object[id_key], objects))"
   ]
  },
  {
   "cell_type": "code",
   "execution_count": null,
   "metadata": {},
   "outputs": [],
   "source": [
    "# Example usage:\n",
    "\n",
    "# Start with candidates\n",
    "candidate_data = get_data('candidates', party='DEM', name='CLINTON, HILLARY RODHAM')['results']\n",
    "candidates = [format_record(candidate, CANDIDATE_ATTRIBUTES) for candidate in candidate_data]\n",
    "candidates"
   ]
  },
  {
   "cell_type": "code",
   "execution_count": null,
   "metadata": {},
   "outputs": [],
   "source": [
    "# Loop through candidates for Committee data\n",
    "committees_data = get_data('committees', candidate_id=get_object_ids(candidates, 'candidate_id'))['results']\n",
    "committees = [format_record(committee, COMMITTEE_ATTRIBUTES) for committee in committees_data]\n",
    "committees"
   ]
  },
  {
   "cell_type": "code",
   "execution_count": null,
   "metadata": {},
   "outputs": [],
   "source": [
    "# Loop through committees for donation data\n",
    "donation_data = []\n",
    "for committee_id in get_object_ids(committees, 'committee_id'):\n",
    "  donations_subset = [format_record(donation, DONATION_ATTRIBUTES) for donation in get_data('donations', committee_id=committee_id, is_individual=\"false\")['results']]\n",
    "  donation_data.extend(donations_subset)"
   ]
  },
  {
   "cell_type": "code",
   "execution_count": 1,
   "metadata": {},
   "outputs": [],
   "source": [
    "# Write data to respective files and trigger copy from local file to RDS\n",
    "# Write each of these files to S3 for easy access and backup"
   ]
  },
  {
   "cell_type": "code",
   "execution_count": 2,
   "metadata": {},
   "outputs": [],
   "source": [
    "# Write data to file\n",
    "def write_to_file(record):\n",
    "  pass\n",
    "\n",
    "# Python script to read in the rds config file and run copy command \n",
    "def copy_to_rds(file):\n",
    "  pass\n",
    "\n",
    "def push_to_s3(file):\n",
    "  pass"
   ]
  },
  {
   "cell_type": "code",
   "execution_count": null,
   "metadata": {},
   "outputs": [],
   "source": [
    "### IGNORE EVERYTHING BELOW THIS FOR NOW\n",
    "### JUST GET RAW DATA INTO THE DB USING THE CODE ABOVE. \n",
    "### WE CAN NORMALIZE AND UPDATE THE SCHEMA LATER IF WE NEED TO\n"
   ]
  },
  {
   "cell_type": "code",
   "execution_count": null,
   "metadata": {},
   "outputs": [],
   "source": [
    "\n",
    "def split_running_mates(office, campaign_name):\n",
    "  candidates = campaign_name.split('/')\n",
    "  candidate = candidates[0].strip(' ')\n",
    "  running_mate = candidates[1].strip(' ') if len(candidates) == 2 else 'N/A'\n",
    "  return (candidate, running_mate)"
   ]
  },
  {
   "cell_type": "code",
   "execution_count": null,
   "metadata": {},
   "outputs": [],
   "source": [
    "def format_candidate(candidate_id, candidate):\n",
    "    if ',' in candidate:\n",
    "      names = candidate.split(',')\n",
    "      print('names: ', names)\n",
    "      last_name = names[0]\n",
    "      other_names = names[1].strip(' ').split(' ')\n",
    "      print('other names:', other_names)      \n",
    "      first_name = other_names[0]\n",
    "      if len(other_names) > 1:\n",
    "        middle_names = ' '.join(other_names[1:])\n",
    "      else:\n",
    "        middle_names = ''\n",
    "    else:\n",
    "      names = candidate.split(' ')\n",
    "      first_name = names[0]\n",
    "      last_name = names[-1]\n",
    "      middle_names = ' '.join(names[1:-1])\n",
    "    return {'id': candidate_id, 'first_name': first_name, 'middle_names': middle_names, 'last_name': last_name}\n",
    "      "
   ]
  },
  {
   "cell_type": "code",
   "execution_count": null,
   "metadata": {},
   "outputs": [],
   "source": [
    "def format_campaign_data(candidate_data):\n",
    "  campaigns = []\n",
    "  for record in candidate_data:\n",
    "    election_years = record.get('election_years', [])\n",
    "    office = record.get('office_full', 'N/A')\n",
    "    campaign_name = record.get('name', 'Unknown')\n",
    "    candidate_id = record.get('candidate_id', '')\n",
    "    for election_year in election_years:\n",
    "      campaign = {\n",
    "        'id': candidate_id + '-' + str(election_year), \n",
    "        'campaign_name': campaign_name,\n",
    "        'office': office\n",
    "      }\n",
    "      candidate, running_mate = split_running_mates(office, campaign_name)\n",
    "      campaign['candidate'] = candidate\n",
    "      campaign['running_mate'] = running_mate\n",
    "      campaigns.append(campaign)\n",
    "  return campaigns  "
   ]
  },
  {
   "cell_type": "code",
   "execution_count": null,
   "metadata": {},
   "outputs": [],
   "source": [
    "# campaigns = format_campaign_data(candidates)\n",
    "# unique_candidates = set([campaign['candidate'] for campaign in campaigns] + [campaign['running_mate'] for campaign in campaigns if campaign['running_mate'] != 'N/A'])\n",
    "# labeled_candidates = [format_candidate(index, candidate) for index, candidate in enumerate(unique_candidates)]\n",
    "# labeled_candidates"
   ]
  }
 ],
 "metadata": {
  "kernelspec": {
   "display_name": "Python 3",
   "language": "python",
   "name": "python3"
  },
  "language_info": {
   "codemirror_mode": {
    "name": "ipython",
    "version": 3
   },
   "file_extension": ".py",
   "mimetype": "text/x-python",
   "name": "python",
   "nbconvert_exporter": "python",
   "pygments_lexer": "ipython3",
   "version": "3.6.4"
  }
 },
 "nbformat": 4,
 "nbformat_minor": 2
}
