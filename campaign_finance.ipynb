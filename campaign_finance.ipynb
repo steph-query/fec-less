{
 "cells": [
  {
   "cell_type": "code",
   "execution_count": 135,
   "metadata": {},
   "outputs": [],
   "source": [
    "# Terraform an RDS instance: rds.tf\n",
    "# Output the RDS connection props to a config file\n",
    "# SQL script to make tables in RDS instance\n",
    "# Python script to pull data, write to file, and copy to RDS instance"
   ]
  },
  {
   "cell_type": "code",
   "execution_count": 171,
   "metadata": {},
   "outputs": [],
   "source": [
    "import requests\n",
    "import json"
   ]
  },
  {
   "cell_type": "code",
   "execution_count": 212,
   "metadata": {},
   "outputs": [],
   "source": [
    "API_KEY = 'DotDawmB1KyneOh1BjXbGws1MVuUDS3wstyqvJ9b'\n",
    "BASE_URL = 'https://api.open.fec.gov/v1'\n",
    "DEFAULT_PARAMS = {\n",
    "  'per_page': 100\n",
    "}\n",
    "ENDPOINTS = {\n",
    "  'candidates': 'candidates',\n",
    "  'committees': 'committees',\n",
    "  'donations': 'schedules/schedule_a'\n",
    "}\n",
    "\n",
    "# Keys to pull from the FEC response objects\n",
    "CANDIDATE_ATTRIBUTES = ['candidate_id', 'name', 'cycles', 'district_number', 'election_districts', 'incumbent_challenge', 'party_full', 'state', 'office_full']\n",
    "COMMITTEE_ATTRIBUTES = ['committee_id', 'committee_type_full', 'designation_full', 'name', 'organization_type_full', 'state', 'party_full''committee_type_full']\n",
    "DONATION_ATTRIBUTES = ['contribution_receipt_date', 'contribution_receipt_amount', 'contributor_state', 'contributor_id', 'contributor_name', 'pdf_url', 'sub_id']\n",
    "session = requests.Session()"
   ]
  },
  {
   "cell_type": "code",
   "execution_count": 187,
   "metadata": {},
   "outputs": [],
   "source": [
    "def format_params(param, value):\n",
    "  return_params = []\n",
    "  if isinstance(value, list):\n",
    "    for value_option in value:\n",
    "      return_params.append('{}={}'.format(param, value_option))\n",
    "  else:\n",
    "    return_params.append('{}={}'.format(param, value))\n",
    "  return return_params\n",
    "\n",
    "def get_url_params(params):\n",
    "  default_params = DEFAULT_PARAMS.copy()\n",
    "  default_params.update(params)\n",
    "  url_params = []\n",
    "  for param, value in default_params.items():\n",
    "    url_params.extend(format_params(param, value))\n",
    "  return url_params"
   ]
  },
  {
   "cell_type": "code",
   "execution_count": 207,
   "metadata": {},
   "outputs": [],
   "source": [
    "def get_url(base_url, endpoint, api_key, **kwargs):\n",
    "  # Pass kwargs to add params to the URL for filters, etc.\n",
    "  # See params for your endpoint in the docs: https://api.open.fec.gov/developers/\n",
    "  url_params = get_url_params(kwargs.copy())\n",
    "  endpoint = '/'.join([base_url, endpoint])\n",
    "  query_url = endpoint + '?api_key={}&'.format(api_key) + '&'.join(url_params)\n",
    "  print(query_url)\n",
    "  return query_url"
   ]
  },
  {
   "cell_type": "code",
   "execution_count": 140,
   "metadata": {},
   "outputs": [],
   "source": [
    "def get_data(endpoint, **kwargs):\n",
    "  endpoint = ENDPOINTS[endpoint]\n",
    "  url = get_url(BASE_URL, endpoint, API_KEY, **kwargs)\n",
    "  response = session.get(url)\n",
    "  return response.json()"
   ]
  },
  {
   "cell_type": "code",
   "execution_count": 214,
   "metadata": {},
   "outputs": [],
   "source": [
    "def format_record(record, keys):\n",
    "  return {key: value for key, value in record.items() if key in keys}"
   ]
  },
  {
   "cell_type": "code",
   "execution_count": 199,
   "metadata": {},
   "outputs": [],
   "source": [
    "def get_object_ids(objects, id_key):\n",
    "  return list(map(lambda object: object[id_key], objects))"
   ]
  },
  {
   "cell_type": "code",
   "execution_count": 193,
   "metadata": {},
   "outputs": [
    {
     "data": {
      "text/plain": [
       "[{'candidate_id': 'S0NY00188',\n",
       "  'cycles': [2000, 2002, 2004, 2006, 2008, 2010, 2012, 2014, 2016, 2018],\n",
       "  'district_number': 0,\n",
       "  'election_districts': ['00', '00', '00'],\n",
       "  'incumbent_challenge': 'C',\n",
       "  'name': 'CLINTON, HILLARY RODHAM',\n",
       "  'office_full': 'Senate',\n",
       "  'party_full': 'DEMOCRATIC PARTY',\n",
       "  'state': 'NY'},\n",
       " {'candidate_id': 'P00003392',\n",
       "  'cycles': [2006, 2008, 2010, 2012, 2014, 2016, 2018],\n",
       "  'district_number': 0,\n",
       "  'election_districts': ['00', '00'],\n",
       "  'incumbent_challenge': 'O',\n",
       "  'name': 'CLINTON, HILLARY RODHAM / TIMOTHY MICHAEL KAINE',\n",
       "  'office_full': 'President',\n",
       "  'party_full': 'DEMOCRATIC PARTY',\n",
       "  'state': 'US'}]"
      ]
     },
     "execution_count": 193,
     "metadata": {},
     "output_type": "execute_result"
    }
   ],
   "source": [
    "# Example usage:\n",
    "\n",
    "# Start with candidates\n",
    "candidate_data = get_data('candidates', party='DEM', name='CLINTON, HILLARY RODHAM')['results']\n",
    "candidates = [format_record(candidate, CANDIDATE_ATTRIBUTES) for candidate in candidate_data]\n",
    "candidates"
   ]
  },
  {
   "cell_type": "code",
   "execution_count": 200,
   "metadata": {},
   "outputs": [
    {
     "data": {
      "text/plain": [
       "[{'committee_id': 'C00388363',\n",
       "  'committee_type_full': 'Party - Nonqualified',\n",
       "  'designation_full': 'Joint fundraising committee',\n",
       "  'name': 'CLINTON-DSCC VICTORY FUND',\n",
       "  'organization_type_full': None,\n",
       "  'state': 'DC'},\n",
       " {'committee_id': 'C00348771',\n",
       "  'committee_type_full': 'Single Candidate Independent Expenditure',\n",
       "  'designation_full': 'Unauthorized',\n",
       "  'name': 'COALITION FOR A BETTER AMERICA',\n",
       "  'organization_type_full': None,\n",
       "  'state': 'MN'},\n",
       " {'committee_id': 'C00390468',\n",
       "  'committee_type_full': 'Single Candidate Independent Expenditure',\n",
       "  'designation_full': 'Unauthorized',\n",
       "  'name': 'DRAFT HILLARY FOR PRESIDENT 2004',\n",
       "  'organization_type_full': None,\n",
       "  'state': 'VA'},\n",
       " {'committee_id': 'C00358895',\n",
       "  'committee_type_full': 'Senate',\n",
       "  'designation_full': 'Principal campaign committee',\n",
       "  'name': 'FRIENDS OF HILLARY',\n",
       "  'organization_type_full': None,\n",
       "  'state': 'DC'},\n",
       " {'committee_id': 'C00570978',\n",
       "  'committee_type_full': 'PAC - Nonqualified',\n",
       "  'designation_full': 'Unauthorized',\n",
       "  'name': 'FUTURE OF AMERICAN LIVES MATTER',\n",
       "  'organization_type_full': None,\n",
       "  'state': 'NY'},\n",
       " {'committee_id': 'C00431569',\n",
       "  'committee_type_full': 'Presidential',\n",
       "  'designation_full': 'Principal campaign committee',\n",
       "  'name': 'HILLARY CLINTON FOR PRESIDENT',\n",
       "  'organization_type_full': None,\n",
       "  'state': 'DC'},\n",
       " {'committee_id': 'C00400473',\n",
       "  'committee_type_full': 'Single Candidate Independent Expenditure',\n",
       "  'designation_full': 'Unauthorized',\n",
       "  'name': 'HILLARY CLINTON FOR PRESIDENT 2008',\n",
       "  'organization_type_full': None,\n",
       "  'state': 'CA'},\n",
       " {'committee_id': 'C00575795',\n",
       "  'committee_type_full': 'Presidential',\n",
       "  'designation_full': 'Principal campaign committee',\n",
       "  'name': 'HILLARY FOR AMERICA',\n",
       "  'organization_type_full': None,\n",
       "  'state': 'NY'},\n",
       " {'committee_id': 'C00346544',\n",
       "  'committee_type_full': 'Senate',\n",
       "  'designation_full': 'Authorized by a candidate',\n",
       "  'name': 'HILLARY RODHAM CLINTON FOR US SENATE COMMITTEE INC',\n",
       "  'organization_type_full': None,\n",
       "  'state': 'DC'},\n",
       " {'committee_id': 'C00349134',\n",
       "  'committee_type_full': 'Single Candidate Independent Expenditure',\n",
       "  'designation_full': 'Unauthorized',\n",
       "  'name': 'HISPANOS 2000 GORE FOR PRESIDENT - HILLARY CLINTON FOR U S SENATE',\n",
       "  'organization_type_full': None,\n",
       "  'state': 'NY'},\n",
       " {'committee_id': 'C00455154',\n",
       "  'committee_type_full': 'Presidential',\n",
       "  'designation_full': 'Joint fundraising committee',\n",
       "  'name': 'LAUTENBERG CLINTON COMMITTEE',\n",
       "  'organization_type_full': None,\n",
       "  'state': 'NJ'},\n",
       " {'committee_id': 'C00438176',\n",
       "  'committee_type_full': 'Single Candidate Independent Expenditure',\n",
       "  'designation_full': 'Unauthorized',\n",
       "  'name': 'NETREP.US',\n",
       "  'organization_type_full': None,\n",
       "  'state': 'LA'},\n",
       " {'committee_id': 'C00358853',\n",
       "  'committee_type_full': 'Single Candidate Independent Expenditure',\n",
       "  'designation_full': 'Unauthorized',\n",
       "  'name': 'NEWERAPAC',\n",
       "  'organization_type_full': None,\n",
       "  'state': 'DC'},\n",
       " {'committee_id': 'C00347997',\n",
       "  'committee_type_full': 'Party - Nonqualified',\n",
       "  'designation_full': 'Joint fundraising committee',\n",
       "  'name': 'NEW YORK DEMOCRATIC VICTORY 2000',\n",
       "  'organization_type_full': None,\n",
       "  'state': 'DC'},\n",
       " {'committee_id': 'C00347948',\n",
       "  'committee_type_full': 'Party - Qualified',\n",
       "  'designation_full': 'Joint fundraising committee',\n",
       "  'name': 'NEW YORK SENATE 2000',\n",
       "  'organization_type_full': None,\n",
       "  'state': 'DC'},\n",
       " {'committee_id': 'C00342261',\n",
       "  'committee_type_full': 'Single Candidate Independent Expenditure',\n",
       "  'designation_full': 'Unauthorized',\n",
       "  'name': 'PEOPLE FOR AMERICAN LEADERSHIP',\n",
       "  'organization_type_full': None,\n",
       "  'state': 'DC'},\n",
       " {'committee_id': 'C00577395',\n",
       "  'committee_type_full': 'Single Candidate Independent Expenditure',\n",
       "  'designation_full': 'Unauthorized',\n",
       "  'name': 'PEOPLE IN COMMAND/PIC',\n",
       "  'organization_type_full': None,\n",
       "  'state': 'OH'},\n",
       " {'committee_id': 'C00344747',\n",
       "  'committee_type_full': 'Single Candidate Independent Expenditure',\n",
       "  'designation_full': 'Unauthorized',\n",
       "  'name': 'RUNHILLARY.COM DRAFT COMMITTEE',\n",
       "  'organization_type_full': None,\n",
       "  'state': 'DC'},\n",
       " {'committee_id': 'C00364257',\n",
       "  'committee_type_full': 'Single Candidate Independent Expenditure',\n",
       "  'designation_full': 'Unauthorized',\n",
       "  'name': 'STOP-HILLARY POLITICAL ACTION COMMITTEE',\n",
       "  'organization_type_full': None,\n",
       "  'state': 'PA'},\n",
       " {'committee_id': 'C00448480',\n",
       "  'committee_type_full': 'Single Candidate Independent Expenditure',\n",
       "  'designation_full': 'Unauthorized',\n",
       "  'name': 'VOTE BOTH',\n",
       "  'organization_type_full': None,\n",
       "  'state': 'VA'},\n",
       " {'committee_id': 'C00417428',\n",
       "  'committee_type_full': 'Single Candidate Independent Expenditure',\n",
       "  'designation_full': 'Unauthorized',\n",
       "  'name': 'VOTEHILLARY PAC',\n",
       "  'organization_type_full': None,\n",
       "  'state': 'VA'},\n",
       " {'committee_id': 'C00413518',\n",
       "  'committee_type_full': 'PAC - Nonqualified',\n",
       "  'designation_full': 'Joint fundraising committee',\n",
       "  'name': 'WOMEN SENATE 2006',\n",
       "  'organization_type_full': None,\n",
       "  'state': 'DC'}]"
      ]
     },
     "execution_count": 200,
     "metadata": {},
     "output_type": "execute_result"
    }
   ],
   "source": [
    "# Loop through candidates for Committee data\n",
    "committees_data = get_data('committees', candidate_id=get_object_ids(candidates, 'candidate_id'))['results']\n",
    "committees = [format_record(committee, COMMITTEE_ATTRIBUTES) for committee in committees_data]\n",
    "committees"
   ]
  },
  {
   "cell_type": "code",
   "execution_count": 217,
   "metadata": {},
   "outputs": [
    {
     "name": "stdout",
     "output_type": "stream",
     "text": [
      "https://api.open.fec.gov/v1/schedules/schedule_a?api_key=DotDawmB1KyneOh1BjXbGws1MVuUDS3wstyqvJ9b&per_page=100&committee_id=C00388363&is_individual=false\n",
      "https://api.open.fec.gov/v1/schedules/schedule_a?api_key=DotDawmB1KyneOh1BjXbGws1MVuUDS3wstyqvJ9b&per_page=100&committee_id=C00348771&is_individual=false\n",
      "https://api.open.fec.gov/v1/schedules/schedule_a?api_key=DotDawmB1KyneOh1BjXbGws1MVuUDS3wstyqvJ9b&per_page=100&committee_id=C00390468&is_individual=false\n",
      "https://api.open.fec.gov/v1/schedules/schedule_a?api_key=DotDawmB1KyneOh1BjXbGws1MVuUDS3wstyqvJ9b&per_page=100&committee_id=C00358895&is_individual=false\n",
      "https://api.open.fec.gov/v1/schedules/schedule_a?api_key=DotDawmB1KyneOh1BjXbGws1MVuUDS3wstyqvJ9b&per_page=100&committee_id=C00570978&is_individual=false\n",
      "https://api.open.fec.gov/v1/schedules/schedule_a?api_key=DotDawmB1KyneOh1BjXbGws1MVuUDS3wstyqvJ9b&per_page=100&committee_id=C00431569&is_individual=false\n",
      "https://api.open.fec.gov/v1/schedules/schedule_a?api_key=DotDawmB1KyneOh1BjXbGws1MVuUDS3wstyqvJ9b&per_page=100&committee_id=C00400473&is_individual=false\n",
      "https://api.open.fec.gov/v1/schedules/schedule_a?api_key=DotDawmB1KyneOh1BjXbGws1MVuUDS3wstyqvJ9b&per_page=100&committee_id=C00575795&is_individual=false\n",
      "https://api.open.fec.gov/v1/schedules/schedule_a?api_key=DotDawmB1KyneOh1BjXbGws1MVuUDS3wstyqvJ9b&per_page=100&committee_id=C00346544&is_individual=false\n",
      "https://api.open.fec.gov/v1/schedules/schedule_a?api_key=DotDawmB1KyneOh1BjXbGws1MVuUDS3wstyqvJ9b&per_page=100&committee_id=C00349134&is_individual=false\n",
      "https://api.open.fec.gov/v1/schedules/schedule_a?api_key=DotDawmB1KyneOh1BjXbGws1MVuUDS3wstyqvJ9b&per_page=100&committee_id=C00455154&is_individual=false\n",
      "https://api.open.fec.gov/v1/schedules/schedule_a?api_key=DotDawmB1KyneOh1BjXbGws1MVuUDS3wstyqvJ9b&per_page=100&committee_id=C00438176&is_individual=false\n",
      "https://api.open.fec.gov/v1/schedules/schedule_a?api_key=DotDawmB1KyneOh1BjXbGws1MVuUDS3wstyqvJ9b&per_page=100&committee_id=C00358853&is_individual=false\n",
      "https://api.open.fec.gov/v1/schedules/schedule_a?api_key=DotDawmB1KyneOh1BjXbGws1MVuUDS3wstyqvJ9b&per_page=100&committee_id=C00347997&is_individual=false\n",
      "https://api.open.fec.gov/v1/schedules/schedule_a?api_key=DotDawmB1KyneOh1BjXbGws1MVuUDS3wstyqvJ9b&per_page=100&committee_id=C00347948&is_individual=false\n",
      "https://api.open.fec.gov/v1/schedules/schedule_a?api_key=DotDawmB1KyneOh1BjXbGws1MVuUDS3wstyqvJ9b&per_page=100&committee_id=C00342261&is_individual=false\n",
      "https://api.open.fec.gov/v1/schedules/schedule_a?api_key=DotDawmB1KyneOh1BjXbGws1MVuUDS3wstyqvJ9b&per_page=100&committee_id=C00577395&is_individual=false\n",
      "https://api.open.fec.gov/v1/schedules/schedule_a?api_key=DotDawmB1KyneOh1BjXbGws1MVuUDS3wstyqvJ9b&per_page=100&committee_id=C00344747&is_individual=false\n",
      "https://api.open.fec.gov/v1/schedules/schedule_a?api_key=DotDawmB1KyneOh1BjXbGws1MVuUDS3wstyqvJ9b&per_page=100&committee_id=C00364257&is_individual=false\n",
      "https://api.open.fec.gov/v1/schedules/schedule_a?api_key=DotDawmB1KyneOh1BjXbGws1MVuUDS3wstyqvJ9b&per_page=100&committee_id=C00448480&is_individual=false\n",
      "https://api.open.fec.gov/v1/schedules/schedule_a?api_key=DotDawmB1KyneOh1BjXbGws1MVuUDS3wstyqvJ9b&per_page=100&committee_id=C00417428&is_individual=false\n",
      "https://api.open.fec.gov/v1/schedules/schedule_a?api_key=DotDawmB1KyneOh1BjXbGws1MVuUDS3wstyqvJ9b&per_page=100&committee_id=C00413518&is_individual=false\n"
     ]
    }
   ],
   "source": [
    "# Loop through committees for donation data\n",
    "donation_data = []\n",
    "for committee_id in get_object_ids(committees, 'committee_id'):\n",
    "  donations_subset = [format_record(donation, DONATION_ATTRIBUTES) for donation in get_data('donations', committee_id=committee_id, is_individual=\"false\")['results']]\n",
    "  donation_data.extend(donations_subset)"
   ]
  },
  {
   "cell_type": "code",
   "execution_count": 218,
   "metadata": {},
   "outputs": [
    {
     "data": {
      "text/plain": [
       "[{'contribution_receipt_amount': 183.46,\n",
       "  'contribution_receipt_date': '2017-06-19T00:00:00',\n",
       "  'contributor_id': None,\n",
       "  'contributor_name': 'AT&T',\n",
       "  'contributor_state': 'WI',\n",
       "  'pdf_url': 'http://docquery.fec.gov/cgi-bin/fecimg/?201707200200229519',\n",
       "  'sub_id': '2072420171429954288'},\n",
       " {'contribution_receipt_amount': 6.36,\n",
       "  'contribution_receipt_date': '2017-09-29T00:00:00',\n",
       "  'contributor_id': None,\n",
       "  'contributor_name': 'AT&T',\n",
       "  'contributor_state': 'WI',\n",
       "  'pdf_url': 'http://docquery.fec.gov/cgi-bin/fecimg/?201710180200325148',\n",
       "  'sub_id': '2102220171458891974'},\n",
       " {'contribution_receipt_amount': 8.13,\n",
       "  'contribution_receipt_date': '2017-10-31T00:00:00',\n",
       "  'contributor_id': None,\n",
       "  'contributor_name': 'AT&T',\n",
       "  'contributor_state': 'WI',\n",
       "  'pdf_url': 'http://docquery.fec.gov/cgi-bin/fecimg/?201802080200157362',\n",
       "  'sub_id': '2021220181504498968'},\n",
       " {'contribution_receipt_amount': 93.37,\n",
       "  'contribution_receipt_date': '2017-11-01T00:00:00',\n",
       "  'contributor_id': None,\n",
       "  'contributor_name': 'AT&T',\n",
       "  'contributor_state': 'WI',\n",
       "  'pdf_url': 'http://docquery.fec.gov/cgi-bin/fecimg/?201802080200157362',\n",
       "  'sub_id': '2021220181504498969'},\n",
       " {'contribution_receipt_amount': 5042.8,\n",
       "  'contribution_receipt_date': '2017-11-14T00:00:00',\n",
       "  'contributor_id': None,\n",
       "  'contributor_name': 'AT&T',\n",
       "  'contributor_state': 'W',\n",
       "  'pdf_url': 'http://docquery.fec.gov/cgi-bin/fecimg/?201802080200157362',\n",
       "  'sub_id': '2021220181504498970'},\n",
       " {'contribution_receipt_amount': 930.0,\n",
       "  'contribution_receipt_date': '2016-10-19T00:00:00',\n",
       "  'contributor_id': 'C00105668',\n",
       "  'contributor_name': 'CALIFORNIA DEMOCRATIC PARTY',\n",
       "  'contributor_state': 'CA',\n",
       "  'pdf_url': 'http://docquery.fec.gov/cgi-bin/fecimg/?201801319091270173',\n",
       "  'sub_id': '4020120181503590172'},\n",
       " {'contribution_receipt_amount': 2500.0,\n",
       "  'contribution_receipt_date': '2016-10-25T00:00:00',\n",
       "  'contributor_id': 'C00359075',\n",
       "  'contributor_name': 'SMITHFIELD FOODS INC. PAC',\n",
       "  'contributor_state': 'VA',\n",
       "  'pdf_url': 'http://docquery.fec.gov/cgi-bin/fecimg/?201801319091270267',\n",
       "  'sub_id': '4020120181503590735'},\n",
       " {'contribution_receipt_amount': 500.0,\n",
       "  'contribution_receipt_date': '2016-11-08T00:00:00',\n",
       "  'contributor_id': None,\n",
       "  'contributor_name': 'AMERICAN HEALTHCARE, LLC',\n",
       "  'contributor_state': 'VA',\n",
       "  'pdf_url': 'http://docquery.fec.gov/cgi-bin/fecimg/?201801319091270331',\n",
       "  'sub_id': '4020120181503591122'},\n",
       " {'contribution_receipt_amount': 2000.0,\n",
       "  'contribution_receipt_date': '2016-11-08T00:00:00',\n",
       "  'contributor_id': None,\n",
       "  'contributor_name': 'AMERICAN HEALTHCARE, LLC',\n",
       "  'contributor_state': 'VA',\n",
       "  'pdf_url': 'http://docquery.fec.gov/cgi-bin/fecimg/?201801319091270332',\n",
       "  'sub_id': '4020120181503591130'},\n",
       " {'contribution_receipt_amount': 223.6,\n",
       "  'contribution_receipt_date': '2017-01-03T00:00:00',\n",
       "  'contributor_id': None,\n",
       "  'contributor_name': 'ADP',\n",
       "  'contributor_state': 'NJ',\n",
       "  'pdf_url': 'http://docquery.fec.gov/cgi-bin/fecimg/?201704159052278193',\n",
       "  'sub_id': '4041820171398860311'}]"
      ]
     },
     "execution_count": 218,
     "metadata": {},
     "output_type": "execute_result"
    }
   ],
   "source": [
    "donation_data[:10]"
   ]
  },
  {
   "cell_type": "code",
   "execution_count": null,
   "metadata": {},
   "outputs": [],
   "source": [
    "# Format the data\n",
    "def format_record(record):\n",
    "  pass\n",
    "\n",
    "# Write data to file\n",
    "def write_to_file(record):\n",
    "  pass\n",
    "\n",
    "# Python script to read in the rds config file and run copy command \n",
    "def copy_to_rds(file):\n",
    "  pass"
   ]
  },
  {
   "cell_type": "code",
   "execution_count": null,
   "metadata": {},
   "outputs": [],
   "source": []
  },
  {
   "cell_type": "code",
   "execution_count": null,
   "metadata": {},
   "outputs": [],
   "source": []
  },
  {
   "cell_type": "code",
   "execution_count": null,
   "metadata": {},
   "outputs": [],
   "source": []
  },
  {
   "cell_type": "code",
   "execution_count": 106,
   "metadata": {},
   "outputs": [],
   "source": [
    "### IGNORE EVERYTHING BELOW THIS FOR NOW\n",
    "### JUST GET RAW DATA INTO THE DB. \n",
    "### WE CAN NORMALIZE AND UPDATE THE SCHEMA LATER\n",
    "\n",
    "def split_running_mates(office, campaign_name):\n",
    "  candidates = campaign_name.split('/')\n",
    "  candidate = candidates[0].strip(' ')\n",
    "  running_mate = candidates[1].strip(' ') if len(candidates) == 2 else 'N/A'\n",
    "  return (candidate, running_mate)"
   ]
  },
  {
   "cell_type": "code",
   "execution_count": 154,
   "metadata": {},
   "outputs": [
    {
     "data": {
      "text/plain": [
       "[{'campaign_name': 'CLINTON, HILLARY RODHAM',\n",
       "  'candidate': 'CLINTON, HILLARY RODHAM',\n",
       "  'id': 'S0NY00188-2000',\n",
       "  'office': 'Senate',\n",
       "  'running_mate': 'N/A'},\n",
       " {'campaign_name': 'CLINTON, HILLARY RODHAM',\n",
       "  'candidate': 'CLINTON, HILLARY RODHAM',\n",
       "  'id': 'S0NY00188-2006',\n",
       "  'office': 'Senate',\n",
       "  'running_mate': 'N/A'},\n",
       " {'campaign_name': 'CLINTON, HILLARY RODHAM',\n",
       "  'candidate': 'CLINTON, HILLARY RODHAM',\n",
       "  'id': 'S0NY00188-2012',\n",
       "  'office': 'Senate',\n",
       "  'running_mate': 'N/A'},\n",
       " {'campaign_name': 'CLINTON, HILLARY RODHAM / TIMOTHY MICHAEL KAINE',\n",
       "  'candidate': 'CLINTON, HILLARY RODHAM',\n",
       "  'id': 'P00003392-2008',\n",
       "  'office': 'President',\n",
       "  'running_mate': 'TIMOTHY MICHAEL KAINE'},\n",
       " {'campaign_name': 'CLINTON, HILLARY RODHAM / TIMOTHY MICHAEL KAINE',\n",
       "  'candidate': 'CLINTON, HILLARY RODHAM',\n",
       "  'id': 'P00003392-2016',\n",
       "  'office': 'President',\n",
       "  'running_mate': 'TIMOTHY MICHAEL KAINE'}]"
      ]
     },
     "execution_count": 154,
     "metadata": {},
     "output_type": "execute_result"
    }
   ],
   "source": [
    "def format_candidate(candidate_id, candidate):\n",
    "    if ',' in candidate:\n",
    "      names = candidate.split(',')\n",
    "      print('names: ', names)\n",
    "      last_name = names[0]\n",
    "      other_names = names[1].strip(' ').split(' ')\n",
    "      print('other names:', other_names)      \n",
    "      first_name = other_names[0]\n",
    "      if len(other_names) > 1:\n",
    "        middle_names = ' '.join(other_names[1:])\n",
    "      else:\n",
    "        middle_names = ''\n",
    "    else:\n",
    "      names = candidate.split(' ')\n",
    "      first_name = names[0]\n",
    "      last_name = names[-1]\n",
    "      middle_names = ' '.join(names[1:-1])\n",
    "    return {'id': candidate_id, 'first_name': first_name, 'middle_names': middle_names, 'last_name': last_name}\n",
    "      "
   ]
  },
  {
   "cell_type": "code",
   "execution_count": null,
   "metadata": {},
   "outputs": [],
   "source": [
    "def format_campaign_data(candidate_data):\n",
    "  campaigns = []\n",
    "  for record in candidate_data:\n",
    "    election_years = record.get('election_years', [])\n",
    "    office = record.get('office_full', 'N/A')\n",
    "    campaign_name = record.get('name', 'Unknown')\n",
    "    candidate_id = record.get('candidate_id', '')\n",
    "    for election_year in election_years:\n",
    "      campaign = {\n",
    "        'id': candidate_id + '-' + str(election_year), \n",
    "        'campaign_name': campaign_name,\n",
    "        'office': office\n",
    "      }\n",
    "      candidate, running_mate = split_running_mates(office, campaign_name)\n",
    "      campaign['candidate'] = candidate\n",
    "      campaign['running_mate'] = running_mate\n",
    "      campaigns.append(campaign)\n",
    "  return campaigns  "
   ]
  },
  {
   "cell_type": "code",
   "execution_count": null,
   "metadata": {},
   "outputs": [],
   "source": [
    "\n",
    "campaigns = format_campaign_data(candidates)\n",
    "unique_candidates = set([campaign['candidate'] for campaign in campaigns] + [campaign['running_mate'] for campaign in campaigns if campaign['running_mate'] != 'N/A'])\n",
    "labeled_candidates = [format_candidate(index, candidate) for index, candidate in enumerate(unique_candidates)]\n",
    "labeled_candidates"
   ]
  }
 ],
 "metadata": {
  "kernelspec": {
   "display_name": "Python 3",
   "language": "python",
   "name": "python3"
  },
  "language_info": {
   "codemirror_mode": {
    "name": "ipython",
    "version": 3
   },
   "file_extension": ".py",
   "mimetype": "text/x-python",
   "name": "python",
   "nbconvert_exporter": "python",
   "pygments_lexer": "ipython3",
   "version": "3.6.4"
  }
 },
 "nbformat": 4,
 "nbformat_minor": 2
}
