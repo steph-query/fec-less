{
 "cells": [
  {
   "cell_type": "code",
   "execution_count": 2,
   "metadata": {},
   "outputs": [],
   "source": [
    "# Terraform an RDS instance: rds.tf\n",
    "# Output the RDS connection props to a config file\n",
    "# SQL script to make tables in RDS instance\n",
    "# Python script to pull data, write to file, and copy to RDS instance"
   ]
  },
  {
   "cell_type": "code",
   "execution_count": 3,
   "metadata": {},
   "outputs": [],
   "source": [
    "import csv\n",
    "import json\n",
    "import os\n",
    "import sys\n",
    "import time\n",
    "from functools import partial\n",
    "\n",
    "import requests"
   ]
  },
  {
   "cell_type": "code",
   "execution_count": 3,
   "metadata": {},
   "outputs": [
    {
     "name": "stdout",
     "output_type": "stream",
     "text": [
      "DotDawmB1KyneOh1BjXbGws1MVuUDS3wstyqvJ9b\n",
      "\n"
     ]
    }
   ],
   "source": [
    "with open('api_key.txt') as f:\n",
    "  API_KEY = f.read()\n",
    "  \n",
    "BASE_URL = 'https://api.open.fec.gov/v1'\n",
    "DEFAULT_PARAMS = {\n",
    "  'per_page': 100,\n",
    "  'page': 1\n",
    "}\n",
    "CONFIGS = {\n",
    "  'candidates': {\n",
    "    'endpoint': 'candidates',\n",
    "    'write_path': '~/candidates.csv',\n",
    "    'attributes': ['candidate_id','name', 'cycles', 'district_number', 'election_districts', 'incumbent_challenge', 'party', 'state', 'office_full']\n",
    "  },\n",
    "  'committees': {\n",
    "    'endpoint': 'committees',\n",
    "    'write_path': '~/committees.csv',\n",
    "    'attributes': ['committee_id', 'committee_type_full', 'designation_full', 'name', 'organization_type_full', 'state', 'party_full''committee_type_full']\n",
    "  },\n",
    "  'donations': {\n",
    "    'endpoint': 'schedules/schedule_a',\n",
    "    'write_path': '~/donations.csv',\n",
    "    'attributes': ['contribution_receipt_date', 'contribution_receipt_amount', 'contributor_state', 'contributor_id', 'contributor_name', 'pdf_url', 'sub_id']\n",
    "  },\n",
    "  'filings': {\n",
    "    'endpoint': 'candidate/{0}/filings',\n",
    "    'attributes': '*'\n",
    "  }\n",
    "}\n",
    "\n",
    "print(API_KEY)"
   ]
  },
  {
   "cell_type": "code",
   "execution_count": null,
   "metadata": {},
   "outputs": [],
   "source": [
    "session = requests.Session()"
   ]
  },
  {
   "cell_type": "code",
   "execution_count": 5,
   "metadata": {},
   "outputs": [],
   "source": [
    "def format_params(param, value):\n",
    "  return_params = []\n",
    "  if isinstance(value, list):\n",
    "    for value_option in value:\n",
    "      return_params.append('{}={}'.format(param, value_option))\n",
    "  else:\n",
    "    return_params.append('{}={}'.format(param, value))\n",
    "  return return_params\n",
    "\n",
    "def get_url_params(params):\n",
    "  default_params = DEFAULT_PARAMS.copy()\n",
    "  default_params.update(params)\n",
    "  url_params = []\n",
    "  for param, value in default_params.items():\n",
    "    url_params.extend(format_params(param, value))\n",
    "  return url_params"
   ]
  },
  {
   "cell_type": "code",
   "execution_count": 6,
   "metadata": {},
   "outputs": [],
   "source": [
    "def get_url(base_url, endpoint, api_key, **kwargs):\n",
    "  # Pass kwargs to add params to the URL for filters, etc.\n",
    "  # See params for your endpoint in the docs: https://api.open.fec.gov/developers/\n",
    "  url_params = get_url_params(kwargs.copy())\n",
    "  endpoint = '/'.join([base_url, endpoint])\n",
    "  query_url = endpoint + '?api_key={}&'.format(api_key) + '&'.join(url_params)\n",
    "  return query_url"
   ]
  },
  {
   "cell_type": "code",
   "execution_count": 19,
   "metadata": {},
   "outputs": [],
   "source": [
    "def get_data(object_type, **kwargs):\n",
    "  endpoint = CONFIGS[object_type]['endpoint'].format(*kwargs.get('dynamic_endpoint', []))\n",
    "  url = get_url(BASE_URL, endpoint, API_KEY, **kwargs)\n",
    "  for i in range(100):\n",
    "    try:\n",
    "      response = session.get(url)\n",
    "      time.sleep(10)\n",
    "      return response.json()\n",
    "    except:\n",
    "      time.sleep(3600)\n",
    "      continue\n",
    "  raise"
   ]
  },
  {
   "cell_type": "code",
   "execution_count": 8,
   "metadata": {},
   "outputs": [],
   "source": [
    "def format_record(record, attributes):\n",
    "  return {key: value for key, value in record.items() if key in attributes}"
   ]
  },
  {
   "cell_type": "code",
   "execution_count": 9,
   "metadata": {},
   "outputs": [],
   "source": [
    "def get_object_ids(id_key, records):\n",
    "  return list(map(lambda record: record[id_key], records))"
   ]
  },
  {
   "cell_type": "code",
   "execution_count": 10,
   "metadata": {},
   "outputs": [],
   "source": [
    "def format_results(response, attributes):\n",
    "  results = response['results']\n",
    "  return list(map(lambda record: format_record(record, attributes), results))"
   ]
  },
  {
   "cell_type": "code",
   "execution_count": 11,
   "metadata": {},
   "outputs": [],
   "source": [
    "def write_results_to_file(object_type, writer, response, attributes):\n",
    "  formatted_data = format_results(response, attributes)\n",
    "  for record in formatted_data:\n",
    "    writer.writerow(record)\n",
    "  return formatted_data"
   ]
  },
  {
   "cell_type": "code",
   "execution_count": 20,
   "metadata": {},
   "outputs": [],
   "source": [
    "def pull_and_write_data(object_type, sub_pull=None, sub_pull_arg=None, **kwargs):\n",
    "  print(\"pulling {}\".format(object_type))\n",
    "  attributes = CONFIGS[object_type]['attributes']  \n",
    "  file_path = CONFIGS[object_type]['write_path']      \n",
    "  for i in range(100):\n",
    "    try:\n",
    "      response = get_data(object_type, **kwargs)\n",
    "      pages = response['pagination']['pages']\n",
    "      time.sleep(10)\n",
    "      break\n",
    "    except:\n",
    "      if i == range(100)[-1]:\n",
    "        raise\n",
    "      time.sleep(3600)\n",
    "      continue\n",
    "\n",
    "  with open(os.path.expanduser(file_path), 'a') as csvfile:\n",
    "    writer = csv.DictWriter(csvfile, fieldnames=attributes)\n",
    "    formatted_data = write_results_to_file(object_type, writer, response, attributes)\n",
    "    if sub_pull:\n",
    "      sub_pull(sub_pull_arg(formatted_data))\n",
    "    for page in range(2, pages + 1):\n",
    "      response = get_data(object_type, page=page, **kwargs)\n",
    "      write_results_to_file(object_type, writer, response, attributes)"
   ]
  },
  {
   "cell_type": "code",
   "execution_count": 21,
   "metadata": {},
   "outputs": [],
   "source": [
    "def pull_committee_donation_data(committee_ids=''):\n",
    "  pull_and_write_data('donations', committee_ids=committee_ids)"
   ]
  },
  {
   "cell_type": "code",
   "execution_count": 22,
   "metadata": {},
   "outputs": [],
   "source": [
    "def pull_candidate_committee_data(candidate_ids=''):\n",
    "  donation_args = partial(get_object_ids, 'committee_id')\n",
    "  pull_and_write_data('committees', \n",
    "                      sub_pull=pull_committee_donation_data,\n",
    "                      sub_pull_arg=donation_args,\n",
    "                      candidate_ids=candidate_ids)"
   ]
  },
  {
   "cell_type": "code",
   "execution_count": 23,
   "metadata": {},
   "outputs": [],
   "source": [
    "def pull_candidate_donation_data(**kwargs):\n",
    "  candidates_config = CONFIGS['candidates']\n",
    "  committees_config = CONFIGS['committees']\n",
    "  donations_config = CONFIGS['donations']\n",
    "  for config in [candidates_config, committees_config, donations_config]:\n",
    "    with open(os.path.expanduser(config['write_path']), 'w') as csvfile:\n",
    "      writer = csv.DictWriter(csvfile, fieldnames=config['attributes'])\n",
    "      writer.writeheader()\n",
    "  committee_args = partial(get_object_ids, 'candidate_id')\n",
    "  pull_and_write_data('candidates', \n",
    "                      sub_pull=pull_candidate_committee_data, \n",
    "                      sub_pull_arg=committee_args,\n",
    "                      **kwargs)"
   ]
  },
  {
   "cell_type": "code",
   "execution_count": null,
   "metadata": {},
   "outputs": [
    {
     "name": "stdout",
     "output_type": "stream",
     "text": [
      "pulling candidates\n",
      "pulling committees\n",
      "pulling donations\n"
     ]
    }
   ],
   "source": [
    "# This is the main function\n",
    "pull_candidate_donation_data(election_year=2016, office='H', party='DEM')\n"
   ]
  },
  {
   "cell_type": "code",
   "execution_count": null,
   "metadata": {},
   "outputs": [],
   "source": [
    "pull_and_write_data('candidates', election_year=2016, office='H', party='DEM')\n",
    "pull_and_write_data('committees', candidate_id=get_object_ids(candidates_data, 'candidate_id'))"
   ]
  },
  {
   "cell_type": "code",
   "execution_count": null,
   "metadata": {},
   "outputs": [],
   "source": [
    "# This is probably too much data to store in memory. \n",
    "# Define a writer function and do it incrementally within pull_pages\n",
    "\n",
    "candidates_data = pull_pages('candidates', election_year=2016, office='H', party='DEM')\n",
    "committees_data = pull_pages('committees', candidate_id=get_object_ids(candidates_data, 'candidate_id'))\n",
    "donations_data = []\n",
    "\n",
    "for committee_id in get_object_ids(committees, 'committee_id'):\n",
    "  donations_subset = [format_record(donation, DONATION_ATTRIBUTES) for donation in pull_pages('donations', committee_id=committee_id, is_individual=\"false\")]\n",
    "  donation_data.extend(donations_subset)\n",
    "  \n"
   ]
  },
  {
   "cell_type": "code",
   "execution_count": null,
   "metadata": {},
   "outputs": [],
   "source": [
    "####################################\n",
    "#### EXAMPLE USAGE: CANDIDATES ####\n",
    "####################################\n",
    "response = get_data('candidates', election_year=2016, office='H', party='DEM')\n",
    "candidate_date = response['results']\n",
    "candidates = [format_record(candidate, CANDIDATE_ATTRIBUTES) for candidate in candidate_data]\n",
    "response"
   ]
  },
  {
   "cell_type": "code",
   "execution_count": null,
   "metadata": {},
   "outputs": [],
   "source": [
    "####################################\n",
    "####   EXAMPLE USAGE: FILINGS   ####\n",
    "####################################\n",
    "\n",
    "# Unable to differentiate general election from primaries\n",
    "# Tried to use filings endpoing to use the 'general__primary_identifier' but it's always None\n",
    "# Added a feature to pass dynamic endpoint params anyway, could be useful for other stuff. \n",
    "# Just pass as *args and denote the interpolation in the endpoint config\n",
    "# test_filing = get_data('filings', dynamic_endpoint=['H6WY00167'])\n",
    "# test_filing"
   ]
  },
  {
   "cell_type": "code",
   "execution_count": null,
   "metadata": {},
   "outputs": [],
   "source": [
    "####################################\n",
    "####  EXAMPLE USAGE: COMMITTEES ####\n",
    "####################################\n",
    "\n",
    "committees_data = get_data('committees', candidate_id=get_object_ids(candidates, 'candidate_id'))['results']\n",
    "committees = [format_record(committee, COMMITTEE_ATTRIBUTES) for committee in committees_data]\n",
    "committees[:5]"
   ]
  },
  {
   "cell_type": "code",
   "execution_count": null,
   "metadata": {},
   "outputs": [],
   "source": [
    "####################################\n",
    "####  EXAMPLE USAGE: DONATIONS  ####\n",
    "####################################\n",
    "donation_data = []\n",
    "for committee_id in get_object_ids(committees, 'committee_id'):\n",
    "  donations_subset = [format_record(donation, DONATION_ATTRIBUTES) for donation in get_data('donations', committee_id=committee_id, is_individual=\"false\")['results']]\n",
    "  donation_data.extend(donations_subset)"
   ]
  },
  {
   "cell_type": "code",
   "execution_count": null,
   "metadata": {},
   "outputs": [],
   "source": [
    "# Write data to respective files and trigger copy from local file to RDS\n",
    "# Write each of these files to S3 for easy access and backup\n",
    "\n",
    "# Write data to file\n",
    "def write_to_file(record):\n",
    "  pass\n",
    "\n",
    "# Python script to read in the rds config file and run copy command \n",
    "def copy_to_rds(file):\n",
    "  pass\n",
    "\n",
    "def push_to_s3(file):\n",
    "  pass"
   ]
  },
  {
   "cell_type": "code",
   "execution_count": null,
   "metadata": {},
   "outputs": [],
   "source": [
    "### IGNORE EVERYTHING BELOW THIS FOR NOW\n",
    "### JUST GET RAW DATA INTO THE DB USING THE CODE ABOVE. \n",
    "### WE CAN NORMALIZE AND UPDATE THE SCHEMA LATER IF WE NEED TO\n"
   ]
  },
  {
   "cell_type": "code",
   "execution_count": null,
   "metadata": {},
   "outputs": [],
   "source": [
    "\n",
    "def split_running_mates(office, campaign_name):\n",
    "  candidates = campaign_name.split('/')\n",
    "  candidate = candidates[0].strip(' ')\n",
    "  running_mate = candidates[1].strip(' ') if len(candidates) == 2 else 'N/A'\n",
    "  return (candidate, running_mate)"
   ]
  },
  {
   "cell_type": "code",
   "execution_count": null,
   "metadata": {},
   "outputs": [],
   "source": [
    "def format_candidate(candidate_id, candidate):\n",
    "    if ',' in candidate:\n",
    "      names = candidate.split(',')\n",
    "      print('names: ', names)\n",
    "      last_name = names[0]\n",
    "      other_names = names[1].strip(' ').split(' ')\n",
    "      print('other names:', other_names)      \n",
    "      first_name = other_names[0]\n",
    "      if len(other_names) > 1:\n",
    "        middle_names = ' '.join(other_names[1:])\n",
    "      else:\n",
    "        middle_names = ''\n",
    "    else:\n",
    "      names = candidate.split(' ')\n",
    "      first_name = names[0]\n",
    "      last_name = names[-1]\n",
    "      middle_names = ' '.join(names[1:-1])\n",
    "    return {'id': candidate_id, 'first_name': first_name, 'middle_names': middle_names, 'last_name': last_name}\n",
    "      "
   ]
  },
  {
   "cell_type": "code",
   "execution_count": null,
   "metadata": {},
   "outputs": [],
   "source": [
    "def format_campaign_data(candidate_data):\n",
    "  campaigns = []\n",
    "  for record in candidate_data:\n",
    "    election_years = record.get('election_years', [])\n",
    "    office = record.get('office_full', 'N/A')\n",
    "    campaign_name = record.get('name', 'Unknown')\n",
    "    candidate_id = record.get('candidate_id', '')\n",
    "    for election_year in election_years:\n",
    "      campaign = {\n",
    "        'id': candidate_id + '-' + str(election_year), \n",
    "        'campaign_name': campaign_name,\n",
    "        'office': office\n",
    "      }\n",
    "      candidate, running_mate = split_running_mates(office, campaign_name)\n",
    "      campaign['candidate'] = candidate\n",
    "      campaign['running_mate'] = running_mate\n",
    "      campaigns.append(campaign)\n",
    "  return campaigns  "
   ]
  },
  {
   "cell_type": "code",
   "execution_count": null,
   "metadata": {},
   "outputs": [],
   "source": [
    "# campaigns = format_campaign_data(candidates)\n",
    "# unique_candidates = set([campaign['candidate'] for campaign in campaigns] + [campaign['running_mate'] for campaign in campaigns if campaign['running_mate'] != 'N/A'])\n",
    "# labeled_candidates = [format_candidate(index, candidate) for index, candidate in enumerate(unique_candidates)]\n",
    "# labeled_candidates"
   ]
  }
 ],
 "metadata": {
  "kernelspec": {
   "display_name": "Python 3",
   "language": "python",
   "name": "python3"
  },
  "language_info": {
   "codemirror_mode": {
    "name": "ipython",
    "version": 3
   },
   "file_extension": ".py",
   "mimetype": "text/x-python",
   "name": "python",
   "nbconvert_exporter": "python",
   "pygments_lexer": "ipython3",
   "version": "3.6.5"
  }
 },
 "nbformat": 4,
 "nbformat_minor": 2
}
