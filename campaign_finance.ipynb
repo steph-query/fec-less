{
 "cells": [
  {
   "cell_type": "code",
   "execution_count": 8,
   "metadata": {},
   "outputs": [],
   "source": [
    "# Terraform an RDS instance: rds.tf\n",
    "# Output the RDS connection props to a config file\n",
    "# SQL script to make tables in RDS instance\n",
    "# Python script to pull data, write to file, and copy to RDS instance"
   ]
  },
  {
   "cell_type": "code",
   "execution_count": 9,
   "metadata": {},
   "outputs": [],
   "source": [
    "import requests"
   ]
  },
  {
   "cell_type": "code",
   "execution_count": 10,
   "metadata": {},
   "outputs": [],
   "source": [
    "API_KEY = 'DotDawmB1KyneOh1BjXbGws1MVuUDS3wstyqvJ9b'\n",
    "BASE_URL = 'https://api.open.fec.gov/v1'\n",
    "DEFAULT_PARAMS = {}\n",
    "ENDPOINTS = {\n",
    "  'candidates': 'candidates'\n",
    "}\n",
    "session = requests.Session()"
   ]
  },
  {
   "cell_type": "code",
   "execution_count": null,
   "metadata": {},
   "outputs": [],
   "source": [
    "def get_params(params):\n",
    "  defaults = DEFAULT_PARAMS.copy()\n",
    "  defaults.update(params)\n",
    "  return defaults"
   ]
  },
  {
   "cell_type": "code",
   "execution_count": 31,
   "metadata": {},
   "outputs": [],
   "source": [
    "def get_url(base_url, endpoint, api_key, **kwargs):\n",
    "  # Pass kwargs to add params to the URL for filters, etc.\n",
    "  # See params for your endpoint in the docs: https://api.open.fec.gov/developers/\n",
    "  url_params = get_url_params(kwargs.copy())\n",
    "  endpoint = '/'.join([base_url, endpoint])\n",
    "  query_url = endpoint + '?api_key={}&'.format(api_key) + '&'.join(url_params)\n",
    "  return query_url"
   ]
  },
  {
   "cell_type": "code",
   "execution_count": 28,
   "metadata": {},
   "outputs": [],
   "source": [
    "def get_data(endpoint, **kwargs):\n",
    "  endpoint = ENDPOINTS[endpoint]\n",
    "  url = get_url(BASE_URL, endpoint, API_KEY, **kwargs)\n",
    "  response = session.get(url)\n",
    "  return response.json()"
   ]
  },
  {
   "cell_type": "code",
   "execution_count": 38,
   "metadata": {},
   "outputs": [
    {
     "name": "stdout",
     "output_type": "stream",
     "text": [
      "1\n",
      "H6NJ05155\n",
      "1\n"
     ]
    }
   ],
   "source": [
    "# Example usage:\n",
    "data = get_data('candidates', party='DEM', year=2010, candidate_id='H6NJ05155')\n",
    "page_candidates = len(data['results'])\n",
    "pages = data['pagination']['pages']\n",
    "candidate_id = data['results'][0]['candidate_id']\n",
    "\n",
    "print(pages)\n",
    "print(candidate_id)\n",
    "print(page_candidates)"
   ]
  },
  {
   "cell_type": "code",
   "execution_count": null,
   "metadata": {},
   "outputs": [],
   "source": [
    "# Format the data\n",
    "def format_record(record):\n",
    "  pass\n",
    "\n",
    "# Write data to file\n",
    "def write_to_file(record):\n",
    "  pass\n",
    "\n",
    "# Python script to read in the rds config file and run copy command \n",
    "def copy_to_rds(file):\n",
    "  pass"
   ]
  }
 ],
 "metadata": {
  "kernelspec": {
   "display_name": "Python 3",
   "language": "python",
   "name": "python3"
  },
  "language_info": {
   "codemirror_mode": {
    "name": "ipython",
    "version": 3
   },
   "file_extension": ".py",
   "mimetype": "text/x-python",
   "name": "python",
   "nbconvert_exporter": "python",
   "pygments_lexer": "ipython3",
   "version": "3.6.4"
  }
 },
 "nbformat": 4,
 "nbformat_minor": 2
}
